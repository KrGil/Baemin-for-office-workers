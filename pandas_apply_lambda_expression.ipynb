{
  "nbformat": 4,
  "nbformat_minor": 0,
  "metadata": {
    "colab": {
      "name": "pandas_apply_lambda_expression.ipynb",
      "private_outputs": true,
      "provenance": [],
      "collapsed_sections": [],
      "toc_visible": true,
      "mount_file_id": "1MAxy5IWhDAxhxjKm0z_RxLt5l0468MEv",
      "authorship_tag": "ABX9TyNHkmCanvZYPKbxUZa7hQH6",
      "include_colab_link": true
    },
    "kernelspec": {
      "name": "python3",
      "display_name": "Python 3"
    }
  },
  "cells": [
    {
      "cell_type": "markdown",
      "metadata": {
        "id": "view-in-github",
        "colab_type": "text"
      },
      "source": [
        "<a href=\"https://colab.research.google.com/github/KrGil/Baemin-for-office-workers/blob/master/pandas_apply_lambda_expression.ipynb\" target=\"_parent\"><img src=\"https://colab.research.google.com/assets/colab-badge.svg\" alt=\"Open In Colab\"/></a>"
      ]
    },
    {
      "cell_type": "code",
      "metadata": {
        "id": "p-rbVa4fdTxk"
      },
      "source": [
        "##def\n",
        "def add1(x):\n",
        "    return x +1"
      ],
      "execution_count": null,
      "outputs": []
    },
    {
      "cell_type": "code",
      "metadata": {
        "id": "MkT4uKh4dyrK"
      },
      "source": [
        "add1(2)"
      ],
      "execution_count": null,
      "outputs": []
    },
    {
      "cell_type": "code",
      "metadata": {
        "id": "jBPLpvhQd0oy"
      },
      "source": [
        "add1 = lambda x : x+1"
      ],
      "execution_count": null,
      "outputs": []
    },
    {
      "cell_type": "code",
      "metadata": {
        "id": "REkiFK9HeFRC"
      },
      "source": [
        "add1(2)"
      ],
      "execution_count": null,
      "outputs": []
    },
    {
      "cell_type": "markdown",
      "metadata": {
        "id": "AMrpZInbeGaQ"
      },
      "source": [
        "##정규표현식을 사용하지 않고, 개봉연도 출력하기 "
      ]
    },
    {
      "cell_type": "code",
      "metadata": {
        "id": "cLbt6ycpeWf1"
      },
      "source": [
        "import pandas as pd\n"
      ],
      "execution_count": null,
      "outputs": []
    },
    {
      "cell_type": "code",
      "metadata": {
        "id": "YjhoVvaFefPS"
      },
      "source": [
        "movies = pd.read_csv('/content/drive/MyDrive/추천 시스템 입문반(강의용)/data/ml_latest_small/movies.csv', index_col = 'movieId')"
      ],
      "execution_count": null,
      "outputs": []
    },
    {
      "cell_type": "code",
      "metadata": {
        "id": "e2w85Ktne77j"
      },
      "source": [
        "movies.sample()"
      ],
      "execution_count": null,
      "outputs": []
    },
    {
      "cell_type": "code",
      "metadata": {
        "id": "n8aJ_bH9iUbw"
      },
      "source": [
        "sample_title = movies['title'][1]\n",
        "sample_title"
      ],
      "execution_count": null,
      "outputs": []
    },
    {
      "cell_type": "code",
      "metadata": {
        "id": "lbpN3Ng8kcG4"
      },
      "source": [
        "sample_title[:4] ##0~3"
      ],
      "execution_count": null,
      "outputs": []
    },
    {
      "cell_type": "code",
      "metadata": {
        "id": "1imFvPT4k338"
      },
      "source": [
        "sample_title[-5:-1]\n",
        "    "
      ],
      "execution_count": null,
      "outputs": []
    },
    {
      "cell_type": "code",
      "metadata": {
        "id": "X77zTYPRlDpt"
      },
      "source": [
        "def get_year(x) :\n",
        "    return x[-5:-1]"
      ],
      "execution_count": null,
      "outputs": []
    },
    {
      "cell_type": "code",
      "metadata": {
        "id": "8wDEydG5lRJu"
      },
      "source": [
        "get_year(sample_title)"
      ],
      "execution_count": null,
      "outputs": []
    },
    {
      "cell_type": "code",
      "metadata": {
        "id": "5BfdiTKhlZ55"
      },
      "source": [
        "years = []\n",
        "for title in movies['title'] :\n",
        "    years.append(get_year(title))"
      ],
      "execution_count": null,
      "outputs": []
    },
    {
      "cell_type": "code",
      "metadata": {
        "id": "UxDowfCTln86"
      },
      "source": [
        "print(set(years))"
      ],
      "execution_count": null,
      "outputs": []
    },
    {
      "cell_type": "code",
      "metadata": {
        "id": "NsZAzK_hlyB1"
      },
      "source": [
        "##pandas apply, lambda expresstion 으로 간단하게 풀어보기\n",
        "##apply : title이라는 컬럼에 함수를 반복 적용, for문의 기능\n",
        "##apply(함수) : 함수를 lambda 함수로도 쓸 수 있다.\n",
        "\n",
        "movies['title'].apply(get_year)"
      ],
      "execution_count": null,
      "outputs": []
    },
    {
      "cell_type": "code",
      "metadata": {
        "id": "vP-BT9Tomjbo"
      },
      "source": [
        " movies['title'].apply(lambda x : x[-5:-1])"
      ],
      "execution_count": null,
      "outputs": []
    },
    {
      "cell_type": "code",
      "metadata": {
        "id": "qR2UScvLm4jg"
      },
      "source": [
        ""
      ],
      "execution_count": null,
      "outputs": []
    }
  ]
}